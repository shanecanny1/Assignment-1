{
 "cells": [
  {
   "cell_type": "markdown",
   "metadata": {
    "collapsed": true
   },
   "source": [
    "# Programming for Data Analytics - Assignment 1# \n",
    "\n",
    "## Introduction##\n",
    "\n",
    "This Jupyter Notebook will explain the purpose and functionality of the numpy.random library within the Python software application used within the data analytics field.  The Jupyter Notebook will explain the use of the package, including detailed explanations of at least ﬁve of the mathematical distributions provided for in the package.\n",
    "\n",
    "There are four distinct tasks required for this assignment.\n",
    "\n",
    "1. Explain the overall purpose of the package. \n",
    "2. Explain the use of the “Simple random data” and “Permutations” functions. \n",
    "3. Explain the use and purpose of at least ﬁve “Distributions” functions. \n",
    "4. Explain the use of seeds in generating pseudorandom numbers.\n"
   ]
  },
  {
   "cell_type": "code",
   "execution_count": 1,
   "metadata": {
    "collapsed": true
   },
   "outputs": [],
   "source": [
    "import numpy as np"
   ]
  },
  {
   "cell_type": "code",
   "execution_count": 2,
   "metadata": {
    "collapsed": true
   },
   "outputs": [],
   "source": [
    "import matplotlib.pyplot as plt"
   ]
  },
  {
   "cell_type": "markdown",
   "metadata": {},
   "source": [
    "# Purpose of the numpy.random Package# \n",
    "At its basic the numpy.random package is used to create random numbers that can be used in the Python application to perform simulations. The ability to generate random numbers is an important part of any simulation. NumPy provides various routines in the submodule random to meet this requirement. The algorithm used within the random submodule to generate random numbers is called the Mersenne Twister algorithm. To generate a random number a seed is defined and is initialized into a state. Everytime a random number is called a one way function (f) is used to transform the state.\n",
    "\n",
    "The Mersenne Twister algorithm uses a similar approach execpt the functions used to transform the state are reversible and the first state is not used to output any random numbers."
   ]
  },
  {
   "cell_type": "markdown",
   "metadata": {},
   "source": [
    "# Simple Random Data #\n",
    "\n",
    "The Simple Random Data module is broken up into different sub-sections to generate random data applicable to different analytic requirements. The list below details the different options available within the Simple Random Data module with a brief description.\n",
    "\n",
    "- rand(d0, d1, …, dn)\t                Random values in a given shape.\n",
    "- randn(d0, d1, …, dn)\t                Return a sample (or samples) from the “standard normal” distribution.\n",
    "- randint(low[, high, size, dtype])\t    Return random integers from low (inclusive) to high (exclusive).\n",
    "- random_integers(low[, high, size])\tRandom integers of type np.int between low and high, inclusive.\n",
    "- random_sample([size])\t                Return random floats in the half-open interval [0.0, 1.0).\n",
    "- random([size])\t                    Return random floats in the half-open interval [0.0, 1.0).\n",
    "- ranf([size])\t                        Return random floats in the half-open interval [0.0, 1.0).\n",
    "- sample([size])\t                    Return random floats in the half-open interval [0.0, 1.0).\n",
    "- choice(a[, size, replace, p])\t        Generates a random sample from a given 1-D array.\n",
    "- bytes(length)\t                        Return random bytes.\n",
    "\n",
    "The analysis below looks to explore a sample of the sub-sections within the Simple Random Data module to further understand each command.  "
   ]
  },
  {
   "cell_type": "markdown",
   "metadata": {},
   "source": [
    "# numpy.random.rand #\n",
    "\n",
    "The numpy.random.rand command creates an array of the given shape and populates it with random samples from a uniform distribution over [0, 1). The [0, 1) is mathemathical notation to explain that the random numbers generated will include zero but not one i.e. the numbers generated will be between 0 and 1 but will not include 1.\n",
    "\n"
   ]
  },
  {
   "cell_type": "code",
   "execution_count": 5,
   "metadata": {},
   "outputs": [
    {
     "data": {
      "text/plain": [
       "array([[ 0.02163565,  0.92702262],\n",
       "       [ 0.72533665,  0.27263562],\n",
       "       [ 0.22883748,  0.26980255]])"
      ]
     },
     "execution_count": 5,
     "metadata": {},
     "output_type": "execute_result"
    }
   ],
   "source": [
    "np.random.rand(3,2)"
   ]
  },
  {
   "cell_type": "markdown",
   "metadata": {},
   "source": [
    "As can be seen from the np.random.rand command above the (3,2) at the end of the command looks to determine the shape of the array i.e. 3 rows and 2 columns. To investigate this further the same command will be run but (3,2) will be replace with (4,5). This should produce an array with 4 rows and 5 columns."
   ]
  },
  {
   "cell_type": "code",
   "execution_count": 6,
   "metadata": {},
   "outputs": [
    {
     "data": {
      "text/plain": [
       "array([[ 0.34017571,  0.65710098,  0.89578863,  0.44740522,  0.29401995],\n",
       "       [ 0.82155781,  0.09987523,  0.09009333,  0.22486187,  0.56612044],\n",
       "       [ 0.33256976,  0.77898894,  0.96836297,  0.85827451,  0.70579554],\n",
       "       [ 0.76759756,  0.06421063,  0.39762104,  0.3478442 ,  0.30507654]])"
      ]
     },
     "execution_count": 6,
     "metadata": {},
     "output_type": "execute_result"
    }
   ],
   "source": [
    "np.random.rand(4,5)"
   ]
  },
  {
   "cell_type": "markdown",
   "metadata": {},
   "source": [
    "As was predicted an array with 4 rows and 5 columns was generated when the variables within the command where changed to 4 and 5."
   ]
  },
  {
   "cell_type": "markdown",
   "metadata": {},
   "source": [
    "To illustrate what this data actually represents a histogram will be generated to produce a visual aid for 1000 random data points."
   ]
  },
  {
   "cell_type": "code",
   "execution_count": 19,
   "metadata": {
    "collapsed": true
   },
   "outputs": [],
   "source": [
    "x = np.random.rand(1000)"
   ]
  },
  {
   "cell_type": "code",
   "execution_count": 20,
   "metadata": {},
   "outputs": [
    {
     "data": {
      "image/png": "[encoded data removed]",
      "text/plain": [
       "<matplotlib.figure.Figure at 0x19a73e89ac8>"
      ]
     },
     "metadata": {},
     "output_type": "display_data"
    }
   ],
   "source": [
    "plt.hist(x)\n",
    "plt.show()"
   ]
  },
  {
   "cell_type": "markdown",
   "metadata": {},
   "source": [
    "As can be seen in ln 19 \"x\" was defined as 1000 random data points. A histogram as then plotted for x. The 1000 random data points are distributed between 10 individual bins within the histogram. There is approximately 120 individual random data points (values) between 0.7 and 0.8. There is approximately 90 individual data points between 0.0 and 0.1 (the first column in the histogram) and so on. "
   ]
  },
  {
   "cell_type": "markdown",
   "metadata": {
    "collapsed": true
   },
   "source": [
    "# numpy.random.randn #\n",
    "\n",
    "The numpy.random.randn command returns a sample (or samples) from the “standard normal” distribution.\n",
    "\n",
    "If positive, int_like or int-convertible arguments are provided, randn generates an array of shape (d0, d1, ..., dn), filled with random floats sampled from a univariate “normal” (Gaussian) distribution of mean 0 and variance 1 (if any of the d_i are floats, they are first converted to integers by truncation). A single float randomly sampled from the distribution is returned if no argument is provided."
   ]
  },
  {
   "cell_type": "code",
   "execution_count": 4,
   "metadata": {},
   "outputs": [
    {
     "data": {
      "text/plain": [
       "0.41215688052823557"
      ]
     },
     "execution_count": 4,
     "metadata": {},
     "output_type": "execute_result"
    }
   ],
   "source": [
    "np.random.randn()"
   ]
  },
  {
   "cell_type": "markdown",
   "metadata": {},
   "source": [
    "As can be seen above when no variable argument is inputed a random float value is returned"
   ]
  },
  {
   "cell_type": "code",
   "execution_count": 5,
   "metadata": {},
   "outputs": [
    {
     "data": {
      "text/plain": [
       "array([-1.30901083,  0.04877864, -1.01584248, -0.06681832,  1.25733214])"
      ]
     },
     "execution_count": 5,
     "metadata": {},
     "output_type": "execute_result"
    }
   ],
   "source": [
    "np.random.randn(5)"
   ]
  },
  {
   "cell_type": "markdown",
   "metadata": {},
   "source": [
    "When an argument is inputted i.e. \"5\" an array with 5 random values is returned."
   ]
  },
  {
   "cell_type": "code",
   "execution_count": 6,
   "metadata": {},
   "outputs": [
    {
     "data": {
      "text/plain": [
       "array([[ 0.06551329, -1.70172505, -1.57523465,  0.29995867,  0.06306577,\n",
       "        -0.7862636 ],\n",
       "       [ 0.16808153,  0.61485176,  1.2487654 ,  0.2353516 , -0.11308163,\n",
       "         0.21468238],\n",
       "       [-1.75900395,  0.14802068,  1.48488082, -1.95709598,  0.87779014,\n",
       "        -1.33144176],\n",
       "       [ 0.11500902, -1.76747786,  0.32056903,  2.47024349,  0.51904244,\n",
       "        -0.62082866],\n",
       "       [-0.83385644, -0.1778116 , -1.16479067,  0.19031576,  1.27421166,\n",
       "        -1.50098456]])"
      ]
     },
     "execution_count": 6,
     "metadata": {},
     "output_type": "execute_result"
    }
   ],
   "source": [
    "np.random.randn(5,6)"
   ]
  },
  {
   "cell_type": "markdown",
   "metadata": {},
   "source": [
    "From the command above a 5 by 6 array of random data points from the Normal Distribution is returned i.e. 5 rows and 6 columns of random data points."
   ]
  },
  {
   "cell_type": "markdown",
   "metadata": {},
   "source": [
    "To generate random samples from the Normal Distribution, N(mu,sigma^2), the following command is used:\n",
    "\n",
    "sigma * np.random.randn(...) + mu\n",
    "\n",
    "- mu is the required mean of the data sample set\n",
    "- sigma^2 is the variance, get the square root of the variance will return the standard deviation i.e. sigma\n",
    "\n",
    "So if you want to generate random data values from the Normal Distribution with a mean of 3 and a standard deviation of 0.5, with a (5,4) array the following command should be used:\n",
    "\n",
    "- sigma * np.random.randn(...) + mu\n",
    "   0.5 * np.random.randn(5,4) + 3\n",
    "\n",
    "I will set y as  0.5 * np.random.randn(5,4) + 3 so that I can plot the values.\n",
    "To see if the random data is now centred around a mean of 3 I will plot a histogram."
   ]
  },
  {
   "cell_type": "code",
   "execution_count": 28,
   "metadata": {},
   "outputs": [
    {
     "data": {
      "image/png": "[encoded data removed]",
      "text/plain": [
       "<matplotlib.figure.Figure at 0x217abcca320>"
      ]
     },
     "metadata": {},
     "output_type": "display_data"
    }
   ],
   "source": [
    "y = 0.5 * np.random.randn(5,4) + 3\n",
    "plt.hist(y)\n",
    "plt.show()"
   ]
  },
  {
   "cell_type": "markdown",
   "metadata": {},
   "source": [
    "The data ranges from approximately 2.25 to 3.5, which is just above +/- 1 standard deviation from the mean of 3."
   ]
  },
  {
   "cell_type": "markdown",
   "metadata": {},
   "source": [
    "# Permutations # \n",
    "\n"
   ]
  },
  {
   "cell_type": "markdown",
   "metadata": {
    "collapsed": true
   },
   "source": [
    "The definition of a permutation is the action of changing the arrangement, especially the linear order, of a set of items, or; the arrangement of all or part of a set of objects, with regard to the order of the arrangement. The numpy.random package offers two options to generate permutations;\n",
    "\n",
    "- shuffle (x)\n",
    "- permutation (x)"
   ]
  },
  {
   "cell_type": "markdown",
   "metadata": {},
   "source": [
    "# Shuffle (x) #\n",
    "The numpy.random.shuffle(x) command modifys a given sequence of numbers by shuffling its contents. What this means is that in a given list of numbers in the array the shuffle command will only shuffle the contents of that array. Below is a command where an array is outputed in increasing order from 0 to 19. The \"arange\" defines the size / content of the array i.e. 0-19 (20 values)."
   ]
  },
  {
   "cell_type": "code",
   "execution_count": 6,
   "metadata": {},
   "outputs": [
    {
     "data": {
      "text/plain": [
       "array([ 0,  1,  2,  3,  4,  5,  6,  7,  8,  9, 10, 11, 12, 13, 14, 15, 16,\n",
       "       17, 18, 19])"
      ]
     },
     "execution_count": 6,
     "metadata": {},
     "output_type": "execute_result"
    }
   ],
   "source": [
    "np.arange(20)"
   ]
  },
  {
   "cell_type": "markdown",
   "metadata": {},
   "source": [
    "To illustrate the shuffle command I will define arr as np.arange(20) and then shuffle the arrays contents randomly. Instead of a list of increasing ordered data points the sequence should be randomly organised."
   ]
  },
  {
   "cell_type": "code",
   "execution_count": 11,
   "metadata": {},
   "outputs": [
    {
     "data": {
      "text/plain": [
       "array([12, 13, 19, 16,  2, 10, 18,  8,  3,  6, 14, 11,  0,  5,  4,  1, 15,\n",
       "       17,  7,  9])"
      ]
     },
     "execution_count": 11,
     "metadata": {},
     "output_type": "execute_result"
    }
   ],
   "source": [
    "arr=np.arange(20)\n",
    "np.random.shuffle(arr)\n",
    "arr"
   ]
  },
  {
   "cell_type": "markdown",
   "metadata": {},
   "source": [
    "As can be seen from the array the same data points 0-19 are still outputted but after the shuffle command the numbering seqeunce is now random. "
   ]
  },
  {
   "cell_type": "markdown",
   "metadata": {},
   "source": [
    "Now we will investigate multi dimenstional arrays."
   ]
  },
  {
   "cell_type": "code",
   "execution_count": 13,
   "metadata": {},
   "outputs": [
    {
     "data": {
      "text/plain": [
       "array([[0, 1, 2],\n",
       "       [3, 4, 5],\n",
       "       [6, 7, 8]])"
      ]
     },
     "execution_count": 13,
     "metadata": {},
     "output_type": "execute_result"
    }
   ],
   "source": [
    "np.arange(9).reshape((3, 3))"
   ]
  },
  {
   "cell_type": "markdown",
   "metadata": {},
   "source": [
    "As can be seen from the command above the size of the array will have 9 values 0-8, containing 3 rows and 3 columns. Lets see what we achieve if we set the size of the array to 16 with 4 rows and 4 columns. We should achieve values ranging from 0 to 15 across an array with 4 rows and 4 columns."
   ]
  },
  {
   "cell_type": "code",
   "execution_count": 15,
   "metadata": {},
   "outputs": [
    {
     "data": {
      "text/plain": [
       "array([[ 0,  1,  2,  3],\n",
       "       [ 4,  5,  6,  7],\n",
       "       [ 8,  9, 10, 11],\n",
       "       [12, 13, 14, 15]])"
      ]
     },
     "execution_count": 15,
     "metadata": {},
     "output_type": "execute_result"
    }
   ],
   "source": [
    "np.arange(16).reshape((4,4))"
   ]
  },
  {
   "cell_type": "markdown",
   "metadata": {},
   "source": [
    "This is exactly what we achieved. Now if we want to randomly shuffle the values within this array we have to define the array and use the shuffle command. For the example above we should receive an array with 4 rows and 4 columns but with the order of the values in randam sequence."
   ]
  },
  {
   "cell_type": "code",
   "execution_count": 16,
   "metadata": {},
   "outputs": [
    {
     "data": {
      "text/plain": [
       "array([[12, 13, 14, 15],\n",
       "       [ 8,  9, 10, 11],\n",
       "       [ 4,  5,  6,  7],\n",
       "       [ 0,  1,  2,  3]])"
      ]
     },
     "execution_count": 16,
     "metadata": {},
     "output_type": "execute_result"
    }
   ],
   "source": [
    "arr=np.arange(16).reshape((4,4))\n",
    "np.random.shuffle(arr)\n",
    "arr"
   ]
  },
  {
   "cell_type": "markdown",
   "metadata": {},
   "source": [
    "We have achieved an array with 4 rows and 4 columns and there is 0-15 values but the sequence is not completely randomised. As it detailed in the Scipy.Org notes multi-dimensional arrays are only shuffled along the first axis i.e. the first row becomes the last, the second becomes the second last, the second last becomes the second and the last becomes the first. Lets confirm this by repeating the same command for the array 9 with 3x3."
   ]
  },
  {
   "cell_type": "code",
   "execution_count": 18,
   "metadata": {},
   "outputs": [
    {
     "data": {
      "text/plain": [
       "array([[6, 7, 8],\n",
       "       [0, 1, 2],\n",
       "       [3, 4, 5]])"
      ]
     },
     "execution_count": 18,
     "metadata": {},
     "output_type": "execute_result"
    }
   ],
   "source": [
    "arr=np.arange(9).reshape((3,3))\n",
    "np.random.shuffle(arr)\n",
    "arr"
   ]
  },
  {
   "cell_type": "markdown",
   "metadata": {},
   "source": [
    "My last point was not 100% accurate what shuffled along the first axis actually means is that the shuffling will only randomly occur on the rows within the array and not the columns. Again lets confirm this by running bothe command above again. We should see that the ordered placement of the rows within the array will randomly change again."
   ]
  },
  {
   "cell_type": "code",
   "execution_count": 19,
   "metadata": {},
   "outputs": [
    {
     "data": {
      "text/plain": [
       "array([[6, 7, 8],\n",
       "       [3, 4, 5],\n",
       "       [0, 1, 2]])"
      ]
     },
     "execution_count": 19,
     "metadata": {},
     "output_type": "execute_result"
    }
   ],
   "source": [
    "arr=np.arange(9).reshape((3,3))\n",
    "np.random.shuffle(arr)\n",
    "arr"
   ]
  },
  {
   "cell_type": "code",
   "execution_count": 21,
   "metadata": {},
   "outputs": [
    {
     "data": {
      "text/plain": [
       "array([[ 4,  5,  6,  7],\n",
       "       [ 0,  1,  2,  3],\n",
       "       [ 8,  9, 10, 11],\n",
       "       [12, 13, 14, 15]])"
      ]
     },
     "execution_count": 21,
     "metadata": {},
     "output_type": "execute_result"
    }
   ],
   "source": [
    "arr=np.arange(16).reshape((4,4))\n",
    "np.random.shuffle(arr)\n",
    "arr"
   ]
  },
  {
   "cell_type": "markdown",
   "metadata": {},
   "source": [
    "Our observation holds true for both previous commands, the shuffle command for multi-dimesional arrays only randomly shuffles the location of the rows within the array."
   ]
  },
  {
   "cell_type": "markdown",
   "metadata": {},
   "source": [
    "# Permutation (x) #\n",
    "\n",
    "The numpy.random.permutation(x) command randomly permutes a sequence, or returns a permuted range. The Scipy.org notes detail that if x is an integer, np.arange(x) will randomly permute a of vaules up to x not including x. If x is an array,the command will make a copy of the array and shuffle the elements of the array randomly. As with the shuffle command if the array is multi-dimensional the elements will only be shuffled along its first index i.e. only the rows order will be randomly shuffled."
   ]
  },
  {
   "cell_type": "code",
   "execution_count": 4,
   "metadata": {},
   "outputs": [
    {
     "data": {
      "text/plain": [
       "array([12, 19,  6,  4, 16,  0, 14, 15,  2, 13,  9,  1,  8, 18, 11, 10,  3,\n",
       "       17,  7,  5])"
      ]
     },
     "execution_count": 4,
     "metadata": {},
     "output_type": "execute_result"
    }
   ],
   "source": [
    "np.random.permutation(20)"
   ]
  },
  {
   "cell_type": "markdown",
   "metadata": {},
   "source": [
    "The np.random.permutation command has generated a list of 20 elements / values from 0 to 20 (not including 20)as only a integer was inputted. If I replace the integer with Out[4] above I should get the same values but in a different random order."
   ]
  },
  {
   "cell_type": "code",
   "execution_count": 6,
   "metadata": {},
   "outputs": [
    {
     "data": {
      "text/plain": [
       "array([16, 12, 13,  5, 10,  3, 17, 11,  9,  0, 18, 19,  2,  6,  4,  1, 14,\n",
       "        8, 15,  7])"
      ]
     },
     "execution_count": 6,
     "metadata": {},
     "output_type": "execute_result"
    }
   ],
   "source": [
    "np.random.permutation([12, 19,  6,  4, 16,  0, 14, 15,  2, 13,  9,  1,  8, 18, 11, 10,  3,\n",
    "       17,  7,  5])"
   ]
  },
  {
   "cell_type": "markdown",
   "metadata": {},
   "source": [
    "As was expected the order of the inputted array has randomly changed. "
   ]
  },
  {
   "cell_type": "markdown",
   "metadata": {},
   "source": [
    "Now we can create our own array by defining how many elements (8) we would like in the area and also the shape of the area (2,4)"
   ]
  },
  {
   "cell_type": "code",
   "execution_count": 21,
   "metadata": {},
   "outputs": [
    {
     "data": {
      "text/plain": [
       "array([[0, 1, 2, 3],\n",
       "       [4, 5, 6, 7]])"
      ]
     },
     "execution_count": 21,
     "metadata": {},
     "output_type": "execute_result"
    }
   ],
   "source": [
    "arr = np.arange(8).reshape((2, 4))\n",
    "np.random.permutation(arr)"
   ]
  },
  {
   "cell_type": "markdown",
   "metadata": {},
   "source": [
    "As can be seen in the area we have 8 elements 0-7 in a 2 x 4 array. As the permutation command only shuffles along the first index, no matter how many time I re-execute the command the sequence of [0,1,2,3] and [4,5,6,7] will just keep reversing position as it is only a 2x4 array. "
   ]
  },
  {
   "cell_type": "markdown",
   "metadata": {},
   "source": [
    "Now if I make this an array with 16 elements and having a shape of (4,4) i.e. 4x4 lets see what happens."
   ]
  },
  {
   "cell_type": "code",
   "execution_count": 24,
   "metadata": {},
   "outputs": [
    {
     "data": {
      "text/plain": [
       "array([[ 8,  9, 10, 11],\n",
       "       [12, 13, 14, 15],\n",
       "       [ 0,  1,  2,  3],\n",
       "       [ 4,  5,  6,  7]])"
      ]
     },
     "execution_count": 24,
     "metadata": {},
     "output_type": "execute_result"
    }
   ],
   "source": [
    "arr = np.arange(16).reshape((4, 4))\n",
    "np.random.permutation(arr)"
   ]
  },
  {
   "cell_type": "markdown",
   "metadata": {},
   "source": [
    "Again only the location of the rows within the array randomly change i.e. the first index."
   ]
  },
  {
   "cell_type": "markdown",
   "metadata": {},
   "source": [
    "The difference between the Shuffle command and the Permutation command is that the Shuffle command only shuffles the contents of an array already defined where as the Permutation command will generate a random sequence of elements / values within a range the user defines."
   ]
  },
  {
   "cell_type": "markdown",
   "metadata": {},
   "source": [
    "# Distribution Analysis #"
   ]
  },
  {
   "cell_type": "markdown",
   "metadata": {},
   "source": [
    "## Beta Distribution ##"
   ]
  },
  {
   "attachments": {
    "image.png": {
     "image/png": "[encoded data removed]"
    }
   },
   "cell_type": "markdown",
   "metadata": {},
   "source": [
    "numpy.random.beta(a, b, size=None) command draws samples from a Beta distribution.\n",
    "\n",
    "The Beta distribution is a special case of the Dirichlet distribution, and is related to the Gamma distribution. It has the probability distribution function;\n",
    "\n",
    "![image.png](attachment:image.png)"
   ]
  },
  {
   "cell_type": "markdown",
   "metadata": {},
   "source": [
    "The beta distribution is used as a prior distribution for binomial proportions i.e. random variables between 0 and 1. The beta distribution is often used to model the distribution of order statistics and to model events which are defined by minimum and maximum values. It is also used in Bayesian statistics. The beta distribution is defined by two shape parameter, to generate a random sample point from the Beta Distribution a minimum of 2 Parameters are needed;\n",
    "\n",
    "- Alpha\n",
    "- Beta\n",
    "\n",
    "The distribution can take on different shapes depending on the values of the two parameters.\n",
    "\n",
    "- If both shapes equal 1, the distribution is a uniform distribution\n",
    "\n",
    "- If both shapes are less than 1, the distribution is U-shaped.\n",
    "\n",
    "- If the first shape equals 2 and second shape equals 1, the distribution is a straight line."
   ]
  },
  {
   "cell_type": "markdown",
   "metadata": {},
   "source": [
    "To illustrate each of the effects the parameters can have on the data set a histogram will be used to illustrate graphically the distribution."
   ]
  },
  {
   "cell_type": "code",
   "execution_count": 6,
   "metadata": {},
   "outputs": [
    {
     "data": {
      "text/plain": [
       "0.011004601201646511"
      ]
     },
     "execution_count": 6,
     "metadata": {},
     "output_type": "execute_result"
    }
   ],
   "source": [
    "np.random.beta(0.5,0.5)"
   ]
  },
  {
   "cell_type": "code",
   "execution_count": 3,
   "metadata": {
    "scrolled": true
   },
   "outputs": [
    {
     "data": {
      "image/png": "[encoded data removed]",
      "text/plain": [
       "<matplotlib.figure.Figure at 0x1e917a6c7b8>"
      ]
     },
     "metadata": {},
     "output_type": "display_data"
    }
   ],
   "source": [
    "x = np.random.beta(1,1,2000)\n",
    "plt.hist(x)\n",
    "plt.show()"
   ]
  },
  {
   "cell_type": "markdown",
   "metadata": {},
   "source": [
    "Above is a graphical illustration of a Uniform Distribution as both shape parameters equal 1"
   ]
  },
  {
   "cell_type": "code",
   "execution_count": 8,
   "metadata": {},
   "outputs": [
    {
     "data": {
      "image/png": "[encoded data removed]",
      "text/plain": [
       "<matplotlib.figure.Figure at 0x1e91a91ccc0>"
      ]
     },
     "metadata": {},
     "output_type": "display_data"
    }
   ],
   "source": [
    "x = np.random.beta(0.5,0.5,2000)\n",
    "plt.hist(x)\n",
    "plt.show()"
   ]
  },
  {
   "cell_type": "markdown",
   "metadata": {},
   "source": [
    "Again as both shape parameters are below 1 a U Distribution is illustrated as predicted."
   ]
  },
  {
   "cell_type": "code",
   "execution_count": 9,
   "metadata": {},
   "outputs": [
    {
     "data": {
      "image/png": "[encoded data removed]",
      "text/plain": [
       "<matplotlib.figure.Figure at 0x1e919f380b8>"
      ]
     },
     "metadata": {},
     "output_type": "display_data"
    }
   ],
   "source": [
    "x = np.random.beta(2,1,2000)\n",
    "plt.hist(x)\n",
    "plt.show()"
   ]
  },
  {
   "cell_type": "markdown",
   "metadata": {},
   "source": [
    "As was predicted with alpha set to 2 and beta set to 1 we achieved a straight line graph (line increasing left to right). Now if I reverse the values for alpha and beta will I achieve a straight line graph increasing right to left? (decreasing left to right)"
   ]
  },
  {
   "cell_type": "code",
   "execution_count": 10,
   "metadata": {},
   "outputs": [
    {
     "data": {
      "image/png": "[encoded data removed]",
      "text/plain": [
       "<matplotlib.figure.Figure at 0x1e91a9ad9b0>"
      ]
     },
     "metadata": {},
     "output_type": "display_data"
    }
   ],
   "source": [
    "x = np.random.beta(1,2,2000)\n",
    "plt.hist(x)\n",
    "plt.show()"
   ]
  },
  {
   "cell_type": "markdown",
   "metadata": {
    "collapsed": true
   },
   "source": [
    "## Exponential Distribution ##"
   ]
  },
  {
   "cell_type": "markdown",
   "metadata": {},
   "source": [
    "The exponential distribution is a continuous analogue of the geometric distribution. It describes many common situations, such as the size of raindrops measured over many rainstorms, or the time between page requests to Wikipedia. \n",
    "\n",
    "The exponential distribution to model the time between events in a continuous Poisson process. It is assumed that independent events occur at a constant rate.\n",
    "\n",
    "This distribution has a wide range of applications, including reliability analysis of products and systems, queuing theory, and Markov chains.\n",
    "\n",
    "For example, the exponential distribution can be used to model:\n",
    "How long it takes for electronic components to fail\n",
    "The time interval between customers' arrivals at a terminal\n",
    "Service time for customers waiting in line\n",
    "The time until default on a payment (credit risk modeling)\n",
    "Time until a radioactive nucleus decays\n",
    "The 2-parameter exponential distribution is defined by its scale and threshold parameters. The threshold parameter, θ, if positive, shifts the distribution by a distance θ to the right. For example, you are interested in studying the failure of a system with θ = 5. This means that the failures start to occur only after 5 hours of operation and cannot occur before. In the following graph, the threshold parameter, θ, is equal to 5, and shifts the distribution 5 units to the right. \n",
    "For the 1-parameter exponential distribution, the threshold is zero, and the distribution is defined by its scale parameter. For the 1-parameter exponential distribution, the scale parameter equals the mean. (Reference Minitab)"
   ]
  },
  {
   "cell_type": "code",
   "execution_count": 3,
   "metadata": {},
   "outputs": [
    {
     "data": {
      "text/plain": [
       "0.12159677012466308"
      ]
     },
     "execution_count": 3,
     "metadata": {},
     "output_type": "execute_result"
    }
   ],
   "source": [
    "np.random.exponential(scale=1.0, size=None)"
   ]
  },
  {
   "cell_type": "code",
   "execution_count": 16,
   "metadata": {},
   "outputs": [
    {
     "data": {
      "text/plain": [
       "array([ 0.14918305,  0.0170343 ,  0.05807196,  2.0531032 ,  1.34946648,\n",
       "        0.89563756,  0.13344588,  0.33139129,  1.01446807,  0.47799739])"
      ]
     },
     "execution_count": 16,
     "metadata": {},
     "output_type": "execute_result"
    }
   ],
   "source": [
    "np.random.exponential(scale=1.0, size=10)"
   ]
  },
  {
   "cell_type": "code",
   "execution_count": 20,
   "metadata": {},
   "outputs": [
    {
     "data": {
      "image/png": "[encoded data removed]",
      "text/plain": [
       "<matplotlib.figure.Figure at 0x1bcdb580550>"
      ]
     },
     "metadata": {},
     "output_type": "display_data"
    }
   ],
   "source": [
    "x=np.random.exponential(scale=10, size=10)\n",
    "plt.hist(x)\n",
    "plt.show()"
   ]
  },
  {
   "cell_type": "code",
   "execution_count": null,
   "metadata": {
    "collapsed": true
   },
   "outputs": [],
   "source": []
  }
 ],
 "metadata": {
  "kernelspec": {
   "display_name": "Python 3",
   "language": "python",
   "name": "python3"
  },
  "language_info": {
   "codemirror_mode": {
    "name": "ipython",
    "version": 3
   },
   "file_extension": ".py",
   "mimetype": "text/x-python",
   "name": "python",
   "nbconvert_exporter": "python",
   "pygments_lexer": "ipython3",
   "version": "3.6.3"
  }
 },
 "nbformat": 4,
 "nbformat_minor": 2
}
