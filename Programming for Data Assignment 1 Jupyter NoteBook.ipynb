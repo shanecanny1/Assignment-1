{
 "cells": [
  {
   "cell_type": "markdown",
   "metadata": {
    "collapsed": true
   },
   "source": [
    "# Programming for Data Analytics - Assignment 1# \n",
    "\n",
    "## Introduction##\n",
    "\n",
    "This Jupyter Notebook will explain the purpose and functionality of the numpy.random library within the Python software application used within the data analytics field.  The Jupyter Notebook will explain the use of the package, including detailed explanations of at least ﬁve of the mathematical distributions provided for in the package.\n",
    "\n",
    "There are four distinct tasks required for this assignment.\n",
    "\n",
    "1. Explain the overall purpose of the package. \n",
    "2. Explain the use of the “Simple random data” and “Permutations” functions. \n",
    "3. Explain the use and purpose of at least ﬁve “Distributions” functions. \n",
    "4. Explain the use of seeds in generating pseudorandom numbers.\n"
   ]
  },
  {
   "cell_type": "code",
   "execution_count": 1,
   "metadata": {
    "collapsed": true
   },
   "outputs": [],
   "source": [
    "import numpy.random"
   ]
  },
  {
   "cell_type": "markdown",
   "metadata": {},
   "source": [
    "## Purpose of the numpy.random Package ##\n",
    "\n",
    "At its basic the numpy.random package is used to create random numbers that can be used in the Python application to perform simulations. The ability to generate random numbers is an important part of any simulation. NumPy provides various routines in the submodule random to meet this requirement. The algorithm used within the random submodule to generate random numbers is called the Mersenne Twister algorithm. To generate a random number a seed is defined and is initialized into a state. Everytime a random number is called a one way function (f) is used to transform the state. \n",
    "\n",
    "The Mersenne Twister algorithm uses a similar approach execpt the functions used to transform the state are reversible and the first state is not used to output any random numbers.\n",
    "\n"
   ]
  },
  {
   "cell_type": "markdown",
   "metadata": {},
   "source": [
    "# Simple Random Data #\n",
    "\n"
   ]
  },
  {
   "cell_type": "markdown",
   "metadata": {},
   "source": [
    "# Permutations # \n",
    "\n"
   ]
  },
  {
   "cell_type": "code",
   "execution_count": null,
   "metadata": {
    "collapsed": true
   },
   "outputs": [],
   "source": []
  }
 ],
 "metadata": {
  "kernelspec": {
   "display_name": "Python 3",
   "language": "python",
   "name": "python3"
  },
  "language_info": {
   "codemirror_mode": {
    "name": "ipython",
    "version": 3
   },
   "file_extension": ".py",
   "mimetype": "text/x-python",
   "name": "python",
   "nbconvert_exporter": "python",
   "pygments_lexer": "ipython3",
   "version": "3.6.3"
  }
 },
 "nbformat": 4,
 "nbformat_minor": 2
}
