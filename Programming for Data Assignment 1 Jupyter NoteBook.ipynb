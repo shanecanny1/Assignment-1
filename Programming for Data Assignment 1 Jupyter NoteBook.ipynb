{
 "cells": [
  {
   "cell_type": "markdown",
   "metadata": {
    "collapsed": true
   },
   "source": [
    "# Programming for Data Analytics - Assignment 1# \n",
    "\n",
    "## Introduction##\n",
    "\n",
    "This Jupyter Notebook will explain the purpose and functionality of the numpy.random library within the Python software application used within the data analytics field.  The Jupyter Notebook will explain the use of the package, including detailed explanations of at least ﬁve of the mathematical distributions provided for in the package.\n",
    "\n",
    "There are four distinct tasks required for this assignment.\n",
    "\n",
    "1. Explain the overall purpose of the package. \n",
    "2. Explain the use of the “Simple random data” and “Permutations” functions. \n",
    "3. Explain the use and purpose of at least ﬁve “Distributions” functions. \n",
    "4. Explain the use of seeds in generating pseudorandom numbers.\n"
   ]
  },
  {
   "cell_type": "code",
   "execution_count": 1,
   "metadata": {
    "collapsed": true
   },
   "outputs": [],
   "source": [
    "import numpy as np"
   ]
  },
  {
   "cell_type": "code",
   "execution_count": 2,
   "metadata": {
    "collapsed": true
   },
   "outputs": [],
   "source": [
    "import matplotlib.pyplot as plt"
   ]
  },
  {
   "cell_type": "markdown",
   "metadata": {},
   "source": [
    "# Purpose of the numpy.random Package# \n",
    "At its basic the numpy.random package is used to create random numbers that can be used in the Python application to perform simulations. The ability to generate random numbers is an important part of any simulation. NumPy provides various routines in the submodule random to meet this requirement. The algorithm used within the random submodule to generate random numbers is called the Mersenne Twister algorithm. To generate a random number a seed is defined and is initialized into a state. Everytime a random number is called a one way function (f) is used to transform the state.\n",
    "\n",
    "The Mersenne Twister algorithm uses a similar approach execpt the functions used to transform the state are reversible and the first state is not used to output any random numbers."
   ]
  },
  {
   "cell_type": "markdown",
   "metadata": {},
   "source": [
    "# Simple Random Data #\n",
    "\n",
    "The Simple Random Data module is broken up into different sub-sections to generate random data applicable to different analytic requirements. The list below details the different options available within the Simple Random Data module with a brief description.\n",
    "\n",
    "- rand(d0, d1, …, dn)\t                Random values in a given shape.\n",
    "- randn(d0, d1, …, dn)\t                Return a sample (or samples) from the “standard normal” distribution.\n",
    "- randint(low[, high, size, dtype])\t    Return random integers from low (inclusive) to high (exclusive).\n",
    "- random_integers(low[, high, size])\tRandom integers of type np.int between low and high, inclusive.\n",
    "- random_sample([size])\t                Return random floats in the half-open interval [0.0, 1.0).\n",
    "- random([size])\t                    Return random floats in the half-open interval [0.0, 1.0).\n",
    "- ranf([size])\t                        Return random floats in the half-open interval [0.0, 1.0).\n",
    "- sample([size])\t                    Return random floats in the half-open interval [0.0, 1.0).\n",
    "- choice(a[, size, replace, p])\t        Generates a random sample from a given 1-D array.\n",
    "- bytes(length)\t                        Return random bytes.\n",
    "\n",
    "The analysis below looks to explore a sample of the sub-sections within the Simple Random Data module to further understand each command.  "
   ]
  },
  {
   "cell_type": "markdown",
   "metadata": {},
   "source": [
    "# numpy.random.rand #\n",
    "\n",
    "The numpy.random.rand command creates an array of the given shape and populates it with random samples from a uniform distribution over [0, 1). The [0, 1) is mathemathical notation to explain that the random numbers generated will include zero but not one i.e. the numbers generated will be between 0 and 1 but will not include 1.\n",
    "\n"
   ]
  },
  {
   "cell_type": "code",
   "execution_count": 3,
   "metadata": {},
   "outputs": [
    {
     "data": {
      "text/plain": [
       "array([[ 0.63126213,  0.23548505],\n",
       "       [ 0.58557737,  0.02486815],\n",
       "       [ 0.49497146,  0.39604763]])"
      ]
     },
     "execution_count": 3,
     "metadata": {},
     "output_type": "execute_result"
    }
   ],
   "source": [
    "np.random.rand(3,2)"
   ]
  },
  {
   "cell_type": "markdown",
   "metadata": {},
   "source": [
    "As can be seen from the np.random.rand command above the (3,2) at the end of the command looks to determine the shape of the array i.e. 3 rows and 2 columns. To investigate this further the same command will be run but (3,2) will be replace with (4,5). This should produce an array with 4 rows and 5 columns."
   ]
  },
  {
   "cell_type": "code",
   "execution_count": 4,
   "metadata": {},
   "outputs": [
    {
     "data": {
      "text/plain": [
       "array([[ 0.28701308,  0.16154589,  0.64181466,  0.69259844,  0.44337736],\n",
       "       [ 0.34678092,  0.12838194,  0.13603746,  0.92137976,  0.2659989 ],\n",
       "       [ 0.3170069 ,  0.26202899,  0.27842597,  0.06621024,  0.7868575 ],\n",
       "       [ 0.46007543,  0.97256155,  0.7508471 ,  0.48883747,  0.22497495]])"
      ]
     },
     "execution_count": 4,
     "metadata": {},
     "output_type": "execute_result"
    }
   ],
   "source": [
    "np.random.rand(4,5)"
   ]
  },
  {
   "cell_type": "markdown",
   "metadata": {},
   "source": [
    "As was predicted an array with 4 rows and 5 columns was generated when the variables within the command where changed to 4 and 5."
   ]
  },
  {
   "cell_type": "markdown",
   "metadata": {},
   "source": [
    "To illustrate what this data actually represents a histogram will be generated to produce a visual aid for 1000 random data points."
   ]
  },
  {
   "cell_type": "code",
   "execution_count": 5,
   "metadata": {
    "collapsed": true
   },
   "outputs": [],
   "source": [
    "x = np.random.rand(1000)"
   ]
  },
  {
   "cell_type": "code",
   "execution_count": 6,
   "metadata": {},
   "outputs": [
    {
     "data": {
      "image/png": "[encoded data removed]",
      "text/plain": [
       "<matplotlib.figure.Figure at 0x21a020bce48>"
      ]
     },
     "metadata": {},
     "output_type": "display_data"
    }
   ],
   "source": [
    "plt.hist(x)\n",
    "plt.show()"
   ]
  },
  {
   "cell_type": "markdown",
   "metadata": {},
   "source": [
    "As can be seen in ln 19 \"x\" was defined as 1000 random data points. A histogram as then plotted for x. The 1000 random data points are distributed between 10 individual bins within the histogram. There is approximately 120 individual random data points (values) between 0.7 and 0.8. There is approximately 90 individual data points between 0.0 and 0.1 (the first column in the histogram) and so on. "
   ]
  },
  {
   "cell_type": "markdown",
   "metadata": {
    "collapsed": true
   },
   "source": [
    "# numpy.random.randn #\n",
    "\n",
    "The numpy.random.randn command returns a sample (or samples) from the “standard normal” distribution.\n",
    "\n",
    "If positive, int_like or int-convertible arguments are provided, randn generates an array of shape (d0, d1, ..., dn), filled with random floats sampled from a univariate “normal” (Gaussian) distribution of mean 0 and variance 1 (if any of the d_i are floats, they are first converted to integers by truncation). A single float randomly sampled from the distribution is returned if no argument is provided."
   ]
  },
  {
   "cell_type": "code",
   "execution_count": 7,
   "metadata": {},
   "outputs": [
    {
     "data": {
      "text/plain": [
       "0.3021025415800268"
      ]
     },
     "execution_count": 7,
     "metadata": {},
     "output_type": "execute_result"
    }
   ],
   "source": [
    "np.random.randn()"
   ]
  },
  {
   "cell_type": "markdown",
   "metadata": {},
   "source": [
    "As can be seen above when no variable argument is inputed a random float value is returned"
   ]
  },
  {
   "cell_type": "code",
   "execution_count": 8,
   "metadata": {},
   "outputs": [
    {
     "data": {
      "text/plain": [
       "array([ 2.01862208, -0.96094585,  0.50532971, -0.8611679 ,  0.37256208])"
      ]
     },
     "execution_count": 8,
     "metadata": {},
     "output_type": "execute_result"
    }
   ],
   "source": [
    "np.random.randn(5)"
   ]
  },
  {
   "cell_type": "markdown",
   "metadata": {},
   "source": [
    "When an argument is inputted i.e. \"5\" an array with 5 random values is returned."
   ]
  },
  {
   "cell_type": "code",
   "execution_count": 9,
   "metadata": {},
   "outputs": [
    {
     "data": {
      "text/plain": [
       "array([[-0.92659798,  1.0671736 , -1.45128555, -0.09991809,  2.38655148,\n",
       "        -1.44747337],\n",
       "       [-0.28547643,  1.13651356,  0.60713569, -0.90868183,  0.18296454,\n",
       "         0.39349836],\n",
       "       [-0.99748618,  0.85083697, -2.09032137, -0.82852894, -0.96264986,\n",
       "         0.84401613],\n",
       "       [-0.75942078,  0.6909112 , -1.47847728, -1.15901245, -0.23677244,\n",
       "         1.32261646],\n",
       "       [ 0.65194057, -1.32936195, -1.15320253,  0.83260641,  0.63494787,\n",
       "         1.25209028]])"
      ]
     },
     "execution_count": 9,
     "metadata": {},
     "output_type": "execute_result"
    }
   ],
   "source": [
    "np.random.randn(5,6)"
   ]
  },
  {
   "cell_type": "markdown",
   "metadata": {},
   "source": [
    "From the command above a 5 by 6 array of random data points from the Normal Distribution is returned i.e. 5 rows and 6 columns of random data points."
   ]
  },
  {
   "cell_type": "markdown",
   "metadata": {},
   "source": [
    "To generate random samples from the Normal Distribution, N(mu,sigma^2), the following command is used:\n",
    "\n",
    "sigma * np.random.randn(...) + mu\n",
    "\n",
    "- mu is the required mean of the data sample set\n",
    "- sigma^2 is the variance, get the square root of the variance will return the standard deviation i.e. sigma\n",
    "\n",
    "So if you want to generate random data values from the Normal Distribution with a mean of 3 and a standard deviation of 0.5, with a (5,4) array the following command should be used:\n",
    "\n",
    "- sigma * np.random.randn(...) + mu\n",
    "   0.5 * np.random.randn(5,4) + 3\n",
    "\n",
    "I will set y as  0.5 * np.random.randn(5,4) + 3 so that I can plot the values.\n",
    "To see if the random data is now centred around a mean of 3 I will plot a histogram."
   ]
  },
  {
   "cell_type": "code",
   "execution_count": 10,
   "metadata": {},
   "outputs": [
    {
     "data": {
      "image/png": "[encoded data removed]",
      "text/plain": [
       "<matplotlib.figure.Figure at 0x21a01fc4a90>"
      ]
     },
     "metadata": {},
     "output_type": "display_data"
    }
   ],
   "source": [
    "y = 0.5 * np.random.randn(5,4) + 3\n",
    "plt.hist(y)\n",
    "plt.show()"
   ]
  },
  {
   "cell_type": "markdown",
   "metadata": {},
   "source": [
    "The data ranges from approximately 2.25 to 3.5, which is just above +/- 1 standard deviation from the mean of 3."
   ]
  },
  {
   "cell_type": "markdown",
   "metadata": {},
   "source": [
    "# Permutations # \n",
    "\n"
   ]
  },
  {
   "cell_type": "markdown",
   "metadata": {
    "collapsed": true
   },
   "source": [
    "The definition of a permutation is the action of changing the arrangement, especially the linear order, of a set of items, or; the arrangement of all or part of a set of objects, with regard to the order of the arrangement. The numpy.random package offers two options to generate permutations;\n",
    "\n",
    "- shuffle (x)\n",
    "- permutation (x)"
   ]
  },
  {
   "cell_type": "markdown",
   "metadata": {},
   "source": [
    "# Shuffle (x) #\n",
    "The numpy.random.shuffle(x) command modifys a given sequence of numbers by shuffling its contents. What this means is that in a given list of numbers in the array the shuffle command will only shuffle the contents of that array. Below is a command where an array is outputed in increasing order from 0 to 19. The \"arange\" defines the size / content of the array i.e. 0-19 (20 values)."
   ]
  },
  {
   "cell_type": "code",
   "execution_count": 11,
   "metadata": {},
   "outputs": [
    {
     "data": {
      "text/plain": [
       "array([ 0,  1,  2,  3,  4,  5,  6,  7,  8,  9, 10, 11, 12, 13, 14, 15, 16,\n",
       "       17, 18, 19])"
      ]
     },
     "execution_count": 11,
     "metadata": {},
     "output_type": "execute_result"
    }
   ],
   "source": [
    "np.arange(20)"
   ]
  },
  {
   "cell_type": "markdown",
   "metadata": {},
   "source": [
    "To illustrate the shuffle command I will define arr as np.arange(20) and then shuffle the arrays contents randomly. Instead of a list of increasing ordered data points the sequence should be randomly organised."
   ]
  },
  {
   "cell_type": "code",
   "execution_count": 12,
   "metadata": {},
   "outputs": [
    {
     "data": {
      "text/plain": [
       "array([ 3,  4,  9,  6, 12,  1,  2, 17, 13,  8, 10,  0,  5, 14, 11,  7, 16,\n",
       "       18, 19, 15])"
      ]
     },
     "execution_count": 12,
     "metadata": {},
     "output_type": "execute_result"
    }
   ],
   "source": [
    "arr=np.arange(20)\n",
    "np.random.shuffle(arr)\n",
    "arr"
   ]
  },
  {
   "cell_type": "markdown",
   "metadata": {},
   "source": [
    "As can be seen from the array the same data points 0-19 are still outputted but after the shuffle command the numbering seqeunce is now random. "
   ]
  },
  {
   "cell_type": "markdown",
   "metadata": {},
   "source": [
    "Now we will investigate multi dimenstional arrays."
   ]
  },
  {
   "cell_type": "code",
   "execution_count": 13,
   "metadata": {},
   "outputs": [
    {
     "data": {
      "text/plain": [
       "array([[0, 1, 2],\n",
       "       [3, 4, 5],\n",
       "       [6, 7, 8]])"
      ]
     },
     "execution_count": 13,
     "metadata": {},
     "output_type": "execute_result"
    }
   ],
   "source": [
    "np.arange(9).reshape((3, 3))"
   ]
  },
  {
   "cell_type": "markdown",
   "metadata": {},
   "source": [
    "As can be seen from the command above the size of the array will have 9 values 0-8, containing 3 rows and 3 columns. Lets see what we achieve if we set the size of the array to 16 with 4 rows and 4 columns. We should achieve values ranging from 0 to 15 across an array with 4 rows and 4 columns."
   ]
  },
  {
   "cell_type": "code",
   "execution_count": 14,
   "metadata": {},
   "outputs": [
    {
     "data": {
      "text/plain": [
       "array([[ 0,  1,  2,  3],\n",
       "       [ 4,  5,  6,  7],\n",
       "       [ 8,  9, 10, 11],\n",
       "       [12, 13, 14, 15]])"
      ]
     },
     "execution_count": 14,
     "metadata": {},
     "output_type": "execute_result"
    }
   ],
   "source": [
    "np.arange(16).reshape((4,4))"
   ]
  },
  {
   "cell_type": "markdown",
   "metadata": {},
   "source": [
    "This is exactly what we achieved. Now if we want to randomly shuffle the values within this array we have to define the array and use the shuffle command. For the example above we should receive an array with 4 rows and 4 columns but with the order of the values in randam sequence."
   ]
  },
  {
   "cell_type": "code",
   "execution_count": 15,
   "metadata": {},
   "outputs": [
    {
     "data": {
      "text/plain": [
       "array([[12, 13, 14, 15],\n",
       "       [ 4,  5,  6,  7],\n",
       "       [ 8,  9, 10, 11],\n",
       "       [ 0,  1,  2,  3]])"
      ]
     },
     "execution_count": 15,
     "metadata": {},
     "output_type": "execute_result"
    }
   ],
   "source": [
    "arr=np.arange(16).reshape((4,4))\n",
    "np.random.shuffle(arr)\n",
    "arr"
   ]
  },
  {
   "cell_type": "markdown",
   "metadata": {},
   "source": [
    "We have achieved an array with 4 rows and 4 columns and there is 0-15 values but the sequence is not completely randomised. As it detailed in the Scipy.Org notes multi-dimensional arrays are only shuffled along the first axis i.e. the first row becomes the last, the second becomes the second last, the second last becomes the second and the last becomes the first. Lets confirm this by repeating the same command for the array 9 with 3x3."
   ]
  },
  {
   "cell_type": "code",
   "execution_count": 16,
   "metadata": {},
   "outputs": [
    {
     "data": {
      "text/plain": [
       "array([[6, 7, 8],\n",
       "       [0, 1, 2],\n",
       "       [3, 4, 5]])"
      ]
     },
     "execution_count": 16,
     "metadata": {},
     "output_type": "execute_result"
    }
   ],
   "source": [
    "arr=np.arange(9).reshape((3,3))\n",
    "np.random.shuffle(arr)\n",
    "arr"
   ]
  },
  {
   "cell_type": "markdown",
   "metadata": {},
   "source": [
    "My last point was not 100% accurate what shuffled along the first axis actually means is that the shuffling will only randomly occur on the rows within the array and not the columns. Again lets confirm this by running bothe command above again. We should see that the ordered placement of the rows within the array will randomly change again."
   ]
  },
  {
   "cell_type": "code",
   "execution_count": 17,
   "metadata": {},
   "outputs": [
    {
     "data": {
      "text/plain": [
       "array([[6, 7, 8],\n",
       "       [0, 1, 2],\n",
       "       [3, 4, 5]])"
      ]
     },
     "execution_count": 17,
     "metadata": {},
     "output_type": "execute_result"
    }
   ],
   "source": [
    "arr=np.arange(9).reshape((3,3))\n",
    "np.random.shuffle(arr)\n",
    "arr"
   ]
  },
  {
   "cell_type": "code",
   "execution_count": 18,
   "metadata": {},
   "outputs": [
    {
     "data": {
      "text/plain": [
       "array([[ 4,  5,  6,  7],\n",
       "       [ 8,  9, 10, 11],\n",
       "       [12, 13, 14, 15],\n",
       "       [ 0,  1,  2,  3]])"
      ]
     },
     "execution_count": 18,
     "metadata": {},
     "output_type": "execute_result"
    }
   ],
   "source": [
    "arr=np.arange(16).reshape((4,4))\n",
    "np.random.shuffle(arr)\n",
    "arr"
   ]
  },
  {
   "cell_type": "markdown",
   "metadata": {},
   "source": [
    "Our observation holds true for both previous commands, the shuffle command for multi-dimesional arrays only randomly shuffles the location of the rows within the array."
   ]
  },
  {
   "cell_type": "markdown",
   "metadata": {},
   "source": [
    "# Permutation (x) #\n",
    "\n",
    "The numpy.random.permutation(x) command randomly permutes a sequence, or returns a permuted range. The Scipy.org notes detail that if x is an integer, np.arange(x) will randomly permute a of vaules up to x not including x. If x is an array,the command will make a copy of the array and shuffle the elements of the array randomly. As with the shuffle command if the array is multi-dimensional the elements will only be shuffled along its first index i.e. only the rows order will be randomly shuffled."
   ]
  },
  {
   "cell_type": "code",
   "execution_count": 19,
   "metadata": {},
   "outputs": [
    {
     "data": {
      "text/plain": [
       "array([ 6, 18, 19, 17, 12,  2,  1,  0,  3, 15,  5, 14,  7,  8, 16, 10, 13,\n",
       "        4,  9, 11])"
      ]
     },
     "execution_count": 19,
     "metadata": {},
     "output_type": "execute_result"
    }
   ],
   "source": [
    "np.random.permutation(20)"
   ]
  },
  {
   "cell_type": "markdown",
   "metadata": {},
   "source": [
    "The np.random.permutation command has generated a list of 20 elements / values from 0 to 20 (not including 20)as only a integer was inputted. If I replace the integer with Out[4] above I should get the same values but in a different random order."
   ]
  },
  {
   "cell_type": "code",
   "execution_count": 20,
   "metadata": {},
   "outputs": [
    {
     "data": {
      "text/plain": [
       "array([ 9, 12,  5,  4, 13,  6, 17,  1,  0,  3, 10, 16,  2,  7, 11, 15, 18,\n",
       "       19,  8, 14])"
      ]
     },
     "execution_count": 20,
     "metadata": {},
     "output_type": "execute_result"
    }
   ],
   "source": [
    "np.random.permutation([12, 19,  6,  4, 16,  0, 14, 15,  2, 13,  9,  1,  8, 18, 11, 10,  3,\n",
    "       17,  7,  5])"
   ]
  },
  {
   "cell_type": "markdown",
   "metadata": {},
   "source": [
    "As was expected the order of the inputted array has randomly changed. "
   ]
  },
  {
   "cell_type": "markdown",
   "metadata": {},
   "source": [
    "Now we can create our own array by defining how many elements (8) we would like in the area and also the shape of the area (2,4)"
   ]
  },
  {
   "cell_type": "code",
   "execution_count": 21,
   "metadata": {},
   "outputs": [
    {
     "data": {
      "text/plain": [
       "array([[0, 1, 2, 3],\n",
       "       [4, 5, 6, 7]])"
      ]
     },
     "execution_count": 21,
     "metadata": {},
     "output_type": "execute_result"
    }
   ],
   "source": [
    "arr = np.arange(8).reshape((2, 4))\n",
    "np.random.permutation(arr)"
   ]
  },
  {
   "cell_type": "markdown",
   "metadata": {},
   "source": [
    "As can be seen in the area we have 8 elements 0-7 in a 2 x 4 array. As the permutation command only shuffles along the first index, no matter how many time I re-execute the command the sequence of [0,1,2,3] and [4,5,6,7] will just keep reversing position as it is only a 2x4 array. "
   ]
  },
  {
   "cell_type": "markdown",
   "metadata": {},
   "source": [
    "Now if I make this an array with 16 elements and having a shape of (4,4) i.e. 4x4 lets see what happens."
   ]
  },
  {
   "cell_type": "code",
   "execution_count": 22,
   "metadata": {},
   "outputs": [
    {
     "data": {
      "text/plain": [
       "array([[ 0,  1,  2,  3],\n",
       "       [12, 13, 14, 15],\n",
       "       [ 8,  9, 10, 11],\n",
       "       [ 4,  5,  6,  7]])"
      ]
     },
     "execution_count": 22,
     "metadata": {},
     "output_type": "execute_result"
    }
   ],
   "source": [
    "arr = np.arange(16).reshape((4, 4))\n",
    "np.random.permutation(arr)"
   ]
  },
  {
   "cell_type": "markdown",
   "metadata": {},
   "source": [
    "Again only the location of the rows within the array randomly change i.e. the first index."
   ]
  },
  {
   "cell_type": "markdown",
   "metadata": {},
   "source": [
    "The difference between the Shuffle command and the Permutation command is that the Shuffle command only shuffles the contents of an array already defined where as the Permutation command will generate a random sequence of elements / values within a range the user defines."
   ]
  },
  {
   "cell_type": "markdown",
   "metadata": {},
   "source": [
    "# Distribution Analysis #"
   ]
  },
  {
   "cell_type": "markdown",
   "metadata": {},
   "source": [
    "## Beta Distribution ##"
   ]
  },
  {
   "attachments": {
    "image.png": {
     "image/png": "[encoded data removed]"
    }
   },
   "cell_type": "markdown",
   "metadata": {},
   "source": [
    "numpy.random.beta(a, b, size=None) command draws samples from a Beta distribution.\n",
    "\n",
    "The Beta distribution is a special case of the Dirichlet distribution, and is related to the Gamma distribution. It has the probability distribution function;\n",
    "\n",
    "![image.png](attachment:image.png)"
   ]
  },
  {
   "cell_type": "markdown",
   "metadata": {},
   "source": [
    "The beta distribution is used as a prior distribution for binomial proportions i.e. random variables between 0 and 1. The beta distribution is often used to model the distribution of order statistics and to model events which are defined by minimum and maximum values. It is also used in Bayesian statistics. The beta distribution is defined by two shape parameter, to generate a random sample point from the Beta Distribution a minimum of 2 Parameters are needed;\n",
    "\n",
    "- Alpha\n",
    "- Beta\n",
    "\n",
    "The distribution can take on different shapes depending on the values of the two parameters.\n",
    "\n",
    "- If both shapes equal 1, the distribution is a uniform distribution\n",
    "\n",
    "- If both shapes are less than 1, the distribution is U-shaped.\n",
    "\n",
    "- If the first shape equals 2 and second shape equals 1, the distribution is a straight line."
   ]
  },
  {
   "cell_type": "markdown",
   "metadata": {},
   "source": [
    "To illustrate each of the effects the parameters can have on the data set a histogram will be used to illustrate graphically the distribution."
   ]
  },
  {
   "cell_type": "code",
   "execution_count": 23,
   "metadata": {},
   "outputs": [
    {
     "data": {
      "text/plain": [
       "0.0332105365172425"
      ]
     },
     "execution_count": 23,
     "metadata": {},
     "output_type": "execute_result"
    }
   ],
   "source": [
    "np.random.beta(0.5,0.5)"
   ]
  },
  {
   "cell_type": "code",
   "execution_count": 24,
   "metadata": {
    "scrolled": true
   },
   "outputs": [
    {
     "data": {
      "image/png": "[encoded data removed]",
      "text/plain": [
       "<matplotlib.figure.Figure at 0x21a02bea390>"
      ]
     },
     "metadata": {},
     "output_type": "display_data"
    }
   ],
   "source": [
    "x = np.random.beta(1,1,2000)\n",
    "plt.hist(x)\n",
    "plt.show()"
   ]
  },
  {
   "cell_type": "markdown",
   "metadata": {},
   "source": [
    "Above is a graphical illustration of a Uniform Distribution as both shape parameters equal 1"
   ]
  },
  {
   "cell_type": "code",
   "execution_count": 25,
   "metadata": {},
   "outputs": [
    {
     "data": {
      "image/png": "[encoded data removed]",
      "text/plain": [
       "<matplotlib.figure.Figure at 0x21a02cad128>"
      ]
     },
     "metadata": {},
     "output_type": "display_data"
    }
   ],
   "source": [
    "x = np.random.beta(0.5,0.5,2000)\n",
    "plt.hist(x)\n",
    "plt.show()"
   ]
  },
  {
   "cell_type": "markdown",
   "metadata": {},
   "source": [
    "Again as both shape parameters are below 1 a U Distribution is illustrated as predicted."
   ]
  },
  {
   "cell_type": "code",
   "execution_count": 26,
   "metadata": {},
   "outputs": [
    {
     "data": {
      "image/png": "[encoded data removed]",
      "text/plain": [
       "<matplotlib.figure.Figure at 0x21a030280b8>"
      ]
     },
     "metadata": {},
     "output_type": "display_data"
    }
   ],
   "source": [
    "x = np.random.beta(2,1,2000)\n",
    "plt.hist(x)\n",
    "plt.show()"
   ]
  },
  {
   "cell_type": "markdown",
   "metadata": {},
   "source": [
    "As was predicted with alpha set to 2 and beta set to 1 we achieved a straight line graph (line increasing left to right). Now if I reverse the values for alpha and beta will I achieve a straight line graph increasing right to left? (decreasing left to right)"
   ]
  },
  {
   "cell_type": "code",
   "execution_count": 27,
   "metadata": {},
   "outputs": [
    {
     "data": {
      "image/png": "[encoded data removed]",
      "text/plain": [
       "<matplotlib.figure.Figure at 0x21a03028fd0>"
      ]
     },
     "metadata": {},
     "output_type": "display_data"
    }
   ],
   "source": [
    "x = np.random.beta(1,2,2000)\n",
    "plt.hist(x)\n",
    "plt.show()"
   ]
  },
  {
   "cell_type": "markdown",
   "metadata": {
    "collapsed": true
   },
   "source": [
    "## Exponential Distribution ##"
   ]
  },
  {
   "cell_type": "markdown",
   "metadata": {},
   "source": [
    "The exponential distribution is a continuous analogue of the geometric distribution. It describes many common situations, such as the size of raindrops measured over many rainstorms. \n",
    "\n",
    "The exponential distribution to model the time between events in a continuous Poisson process. It is assumed that independent events occur at a constant rate.\n",
    "\n",
    "This distribution has a wide range of applications, including reliability analysis of products and systems, queuing theory, and Markov chains.\n",
    "\n",
    "For example, the exponential distribution can be used to model:\n",
    "- How long it takes for electronic components to fail\n",
    "- The time interval between customers' arrivals at a terminal\n",
    "- Service time for customers waiting in line\n",
    "- The time until default on a payment (credit risk modeling)\n",
    "- Time until a radioactive nucleus decays\n",
    "\n",
    "The 2-parameter exponential distribution is defined by its scale and threshold parameters. The threshold parameter, θ, if positive, shifts the distribution by a distance θ to the right. For example, you are interested in studying the failure of a system with θ = 5. This means that the failures start to occur only after 5 hours of operation and cannot occur before. If the threshold parameter, θ, is equal to 5, this shifts the distribution 5 units to the right. \n",
    "For the 1-parameter exponential distribution, the threshold is zero, and the distribution is defined by its scale parameter. For the 1-parameter exponential distribution, the scale parameter equals the mean. (Reference Minitab)\n",
    "\n",
    "An important property of the exponential distribution is that it is memoryless. The memoryless property indicates that the remaining life of a component is independent of its current age. For example, a system that experiences wear and tear and therefore becomes more likely to fail later in its life is not memoryless.(Reference Minitab Application 17.0)\n",
    "\n"
   ]
  },
  {
   "cell_type": "code",
   "execution_count": 28,
   "metadata": {},
   "outputs": [
    {
     "data": {
      "text/plain": [
       "0.1572206049264159"
      ]
     },
     "execution_count": 28,
     "metadata": {},
     "output_type": "execute_result"
    }
   ],
   "source": [
    "np.random.exponential(scale=1.0, size=None)"
   ]
  },
  {
   "cell_type": "markdown",
   "metadata": {},
   "source": [
    "To illustrate the 1 parameter exponential distribution, below we will generate random samples with only the scale parameter of 1 and a sample size of 10.\n",
    "\n",
    "We will also output a output a histogram to illustrate how the data is distributed with a scale of 1 and a size of 1000."
   ]
  },
  {
   "cell_type": "code",
   "execution_count": 29,
   "metadata": {},
   "outputs": [
    {
     "data": {
      "text/plain": [
       "array([ 0.40372327,  5.24223145,  0.20094783,  1.30525893,  0.13292981,\n",
       "        0.17060813,  0.55974885,  0.71381689,  2.57410138,  0.05356134])"
      ]
     },
     "execution_count": 29,
     "metadata": {},
     "output_type": "execute_result"
    }
   ],
   "source": [
    "np.random.exponential(scale=1.0, size=10)"
   ]
  },
  {
   "cell_type": "code",
   "execution_count": 30,
   "metadata": {},
   "outputs": [
    {
     "data": {
      "image/png": "[encoded data removed]",
      "text/plain": [
       "<matplotlib.figure.Figure at 0x21a02c7a278>"
      ]
     },
     "metadata": {},
     "output_type": "display_data"
    }
   ],
   "source": [
    "x=np.random.exponential(scale=1, size=1000)\n",
    "plt.hist(x)\n",
    "plt.show()"
   ]
  },
  {
   "cell_type": "markdown",
   "metadata": {
    "collapsed": true
   },
   "source": [
    "Now what happen if I input a negative scale factor i.e. -1"
   ]
  },
  {
   "cell_type": "code",
   "execution_count": 31,
   "metadata": {},
   "outputs": [
    {
     "ename": "ValueError",
     "evalue": "scale < 0",
     "output_type": "error",
     "traceback": [
      "\u001b[1;31m---------------------------------------------------------------------------\u001b[0m",
      "\u001b[1;31mValueError\u001b[0m                                Traceback (most recent call last)",
      "\u001b[1;32m<ipython-input-31-24ef9d108e73>\u001b[0m in \u001b[0;36m<module>\u001b[1;34m()\u001b[0m\n\u001b[1;32m----> 1\u001b[1;33m \u001b[0mx\u001b[0m\u001b[1;33m=\u001b[0m\u001b[0mnp\u001b[0m\u001b[1;33m.\u001b[0m\u001b[0mrandom\u001b[0m\u001b[1;33m.\u001b[0m\u001b[0mexponential\u001b[0m\u001b[1;33m(\u001b[0m\u001b[0mscale\u001b[0m\u001b[1;33m=\u001b[0m\u001b[1;33m-\u001b[0m\u001b[1;36m1\u001b[0m\u001b[1;33m,\u001b[0m \u001b[0msize\u001b[0m\u001b[1;33m=\u001b[0m\u001b[1;36m1000\u001b[0m\u001b[1;33m)\u001b[0m\u001b[1;33m\u001b[0m\u001b[0m\n\u001b[0m\u001b[0;32m      2\u001b[0m \u001b[0mplt\u001b[0m\u001b[1;33m.\u001b[0m\u001b[0mhist\u001b[0m\u001b[1;33m(\u001b[0m\u001b[0mx\u001b[0m\u001b[1;33m)\u001b[0m\u001b[1;33m\u001b[0m\u001b[0m\n\u001b[0;32m      3\u001b[0m \u001b[0mplt\u001b[0m\u001b[1;33m.\u001b[0m\u001b[0mshow\u001b[0m\u001b[1;33m(\u001b[0m\u001b[1;33m)\u001b[0m\u001b[1;33m\u001b[0m\u001b[0m\n",
      "\u001b[1;32mmtrand.pyx\u001b[0m in \u001b[0;36mmtrand.RandomState.exponential\u001b[1;34m()\u001b[0m\n",
      "\u001b[1;31mValueError\u001b[0m: scale < 0"
     ]
    }
   ],
   "source": [
    "x=np.random.exponential(scale=-1, size=1000)\n",
    "plt.hist(x)\n",
    "plt.show()"
   ]
  },
  {
   "cell_type": "markdown",
   "metadata": {},
   "source": [
    "So as can be seen above a negative value cannot be entered for the exponential distribution."
   ]
  },
  {
   "cell_type": "markdown",
   "metadata": {},
   "source": [
    "As can be seen from the histogram for the exponential distribution, the data points start at zero and stretch out to 8, lets see what the data looks like if we change the scale to 10."
   ]
  },
  {
   "cell_type": "code",
   "execution_count": 32,
   "metadata": {},
   "outputs": [
    {
     "data": {
      "image/png": "[encoded data removed]",
      "text/plain": [
       "<matplotlib.figure.Figure at 0x21a02c3c748>"
      ]
     },
     "metadata": {},
     "output_type": "display_data"
    }
   ],
   "source": [
    "x=np.random.exponential(scale=10, size=1000)\n",
    "plt.hist(x)\n",
    "plt.show()"
   ]
  },
  {
   "cell_type": "markdown",
   "metadata": {},
   "source": [
    "As can be seen the scale has changed by a factor or 10 on the x axis."
   ]
  },
  {
   "cell_type": "markdown",
   "metadata": {
    "collapsed": true
   },
   "source": [
    "## Binomial distribution\n",
    "\n",
    "As the name suggests the binomial distribution is used to describe a process where the outcomes can be labeled as an event or nonevent i.e occurred or did not occur. This distribution is used in many industries such a manufacturing quality control, political surveys (Red C Polls), research in relation to medical developments to name just a few. \n",
    "\n",
    "The number of events (X) in n trials follows a binomial distribution if the following conditions are met:\n",
    "\n",
    "·    The number of trials is fixed\n",
    "\n",
    "·    Each trial is independent\n",
    "\n",
    "·    Each trial has one of two outcomes: event or nonevent\n",
    "\n",
    "·    The probability of an event is the same for each trial\n",
    "(Reference Minitab Software Application 17.0)\n",
    "\n",
    "If you are interested in the occurance of events and not its size (magnitude) the binomial distribution can be used. For example, you are interested in the number of defective items and not the degree of the defectiveness. If you are analysing a process and you want to see if the process produce greater than 5% defefective items i.e. will the process produce 6 or more defective items in a sample of 100. The number of defective items (X) follows a binomial distribution with n = 100 and p = 0.05. \n",
    "\n",
    "If n is large and p is approximately 0.5 or close to it the binomal distribution can be approximated by the standard normal distribution e.g. n=100, p=0.5\n",
    "\n",
    "Within the numpy package we have three inputs, where n is the number of trials, p is the probability of success, and in the example below 1000 is the number of times we repeat the 10 tirals. Below we will change the inputs of each variable to see what impact it has on the data's distribution.\n",
    "\n",
    "                                        s = np.random.binomial(n, p, 1000)\n",
    "                                        \n",
    "To test the distribution of the binomial distribution we will use the scenario of flipping a coin 10 times (n) and changing the probability of success i.e. getting a head (0.5), while re-running the trial 1000 times to see what impact changing the variables have."
   ]
  },
  {
   "cell_type": "code",
   "execution_count": 33,
   "metadata": {
    "collapsed": true
   },
   "outputs": [],
   "source": [
    "s = np.random.binomial(10, 0.5, 1000)"
   ]
  },
  {
   "cell_type": "code",
   "execution_count": 34,
   "metadata": {},
   "outputs": [
    {
     "data": {
      "image/png": "[encoded data removed]",
      "text/plain": [
       "<matplotlib.figure.Figure at 0x21a02b4ba58>"
      ]
     },
     "metadata": {},
     "output_type": "display_data"
    }
   ],
   "source": [
    "plt.hist(s)\n",
    "plt.xlabel(\"Number of Heads\")\n",
    "plt.ylabel(\"Number of Trials\")\n",
    "plt.show()"
   ]
  },
  {
   "cell_type": "markdown",
   "metadata": {},
   "source": [
    "The distribution plot above illustrates that the binomal distribution approximates to the normal distribution when the sample size is large (in this case 1000) and the probability of success is close to 50% (in this case 0.5). The 10 above is the number of trials. Lets examine what happens when we change the variable above. We see that in approximately 250 re-runs of the trial of 10 we achieve 5 heads."
   ]
  },
  {
   "cell_type": "code",
   "execution_count": 35,
   "metadata": {},
   "outputs": [
    {
     "data": {
      "image/png": "[encoded data removed]",
      "text/plain": [
       "<matplotlib.figure.Figure at 0x21a0305da58>"
      ]
     },
     "metadata": {},
     "output_type": "display_data"
    }
   ],
   "source": [
    "s = np.random.binomial(10,0.1, 1000)\n",
    "plt.hist(s)\n",
    "plt.xlabel(\"Number of Heads\")\n",
    "plt.ylabel(\"Number of Trials\")\n",
    "plt.show()"
   ]
  },
  {
   "cell_type": "markdown",
   "metadata": {},
   "source": [
    "By changing the probability of success(0.1) we can see that the graph is now right skewed with the majority of trials resulting one or no heads at all. No lets increase the probability to 0.99, we should that we nearly achieve all heads."
   ]
  },
  {
   "cell_type": "code",
   "execution_count": 36,
   "metadata": {},
   "outputs": [
    {
     "data": {
      "image/png": "[encoded data removed]",
      "text/plain": [
       "<matplotlib.figure.Figure at 0x21a02e66470>"
      ]
     },
     "metadata": {},
     "output_type": "display_data"
    }
   ],
   "source": [
    "s = np.random.binomial(10,0.99, 1000)\n",
    "plt.hist(s)\n",
    "plt.xlabel(\"Number of Heads\")\n",
    "plt.ylabel(\"Number of Trials\")\n",
    "plt.show()"
   ]
  },
  {
   "cell_type": "markdown",
   "metadata": {},
   "source": [
    "As was pridicted we have achieved nearly all head with approximately 100 trials of 10 giving 9 heads."
   ]
  },
  {
   "cell_type": "markdown",
   "metadata": {
    "collapsed": true
   },
   "source": [
    "## Chi-Square Distribution \n",
    "\n",
    "\n",
    "numpy.random.chisquare(df, size=None)\n",
    "\n",
    "Where df is equal to the degrees of freedom and should be greater than one. The Chi-square distribution is used in tests of statistical significance to test how well a sample fits a theoretical distribution and also to the independence between categorical variables such occurrence of different defects within a manufacturing process.\n",
    "\n",
    "The number of degrees of freedom have an impact on the shape oft he chi-square distribution.The shape of the chi-square distribution depends on the number of degrees of freedom. The distribution is positively skewed, but skewness decreases with more degrees of freedom. When the degrees of freedom are 30 or more, the distribution can be reasonably be approximated by the normal distribution. (Reference Minitab https://support.minitab.com/en-us/minitab-express/1/help-and-how-to/basic-statistics/probability-distributions/supporting-topics/distributions/chi-square-distribution/) "
   ]
  },
  {
   "cell_type": "markdown",
   "metadata": {},
   "source": [
    "To examine the impact degrees of freedom have on the chi-square distribution we will vary the first variable within the equation below. As the chi-square usually follows a positive skewness we will first start with a low degree of freedom i.e. 3 and then move up to 45 to see if the distribution starts to approximate towards the normal distribution."
   ]
  },
  {
   "cell_type": "code",
   "execution_count": 37,
   "metadata": {},
   "outputs": [
    {
     "data": {
      "image/png": "[encoded data removed]",
      "text/plain": [
       "<matplotlib.figure.Figure at 0x21a01fa60b8>"
      ]
     },
     "metadata": {},
     "output_type": "display_data"
    }
   ],
   "source": [
    "x = np.random.chisquare(3,100)\n",
    "plt.hist(x)\n",
    "plt.xlabel(\"No. Degrees of Freedom 3\")\n",
    "plt.show()"
   ]
  },
  {
   "cell_type": "code",
   "execution_count": 38,
   "metadata": {},
   "outputs": [
    {
     "data": {
      "image/png": "[encoded data removed]",
      "text/plain": [
       "<matplotlib.figure.Figure at 0x21a033e2c50>"
      ]
     },
     "metadata": {},
     "output_type": "display_data"
    }
   ],
   "source": [
    "x = np.random.chisquare(45,100)\n",
    "plt.hist(x)\n",
    "plt.xlabel(\"No. Degrees of Freedom 45\")\n",
    "plt.show()"
   ]
  },
  {
   "cell_type": "markdown",
   "metadata": {},
   "source": [
    "As was predicted with a lower degree of freedom (i.e. 3) the chi-square distribution diplays positive skewness. When the degrees of freedom are increased (i.e. 45) the distribution tends towards thesame shape as the normal distribution."
   ]
  },
  {
   "cell_type": "markdown",
   "metadata": {
    "collapsed": true
   },
   "source": [
    "## Weibull Distribution \n",
    "\n",
    "\n",
    "The Weibull distribution is an import distribution and is used widely in industry to model time to failure.  There can be 3 parameters used within the Weibull distribution;\n",
    "\n",
    "- Shape \n",
    "- Scale\n",
    "- Threshold\n",
    "\n",
    "When threshold is zero the distribution is named the 2-Parameter Weibull distribution. The Weibull distribution cannot be used with negative values.\n",
    "\n",
    "The Weibull distrubition is widely used witin industry due to its flexiblity in fitting data. The distribution is used in areas from manufacturing to the decay rate of radiation, finance and climatology.  \n",
    "\n",
    "Depending on the values of the parameters, the Weibull distribution can take various shapes. \n",
    "\n",
    "- The exponential distribution is a special case of Weibull distribution often used to study the scattering of radiation or wind speed. \n",
    "\n",
    "- The Weibull distribution is an alternative to the normal distribution in the case of skewed data. \n",
    "\n",
    "- If X follows a Weibull distribution, then Ln(X) follows an extreme value distribution. This distribution is used to describe extreme conditions, such as extreme wind-gust, extreme energy during earthquakes, or extreme stress. \n",
    "\n",
    "- When the shape parameter is 2, the Rayleigh distribution can be derived from the Weibull distribution. \n",
    "(Reference Minitab Application 17.0)\n",
    "\n",
    "The basic funtion within the numpy.random package looks to define the shape parameter within the Weibull distribution.\n",
    "\n",
    "How your data is distributed is described by theshape parameter. A low shape parameter skews the data to the right while a high shape parameter skews the date to the left. A shape parameter of approxiately 3 will approximate the normal distribution curve.\n",
    "\n",
    "In the next we will define the shape and sample size as (a,n)\n",
    "\n"
   ]
  },
  {
   "cell_type": "code",
   "execution_count": 39,
   "metadata": {},
   "outputs": [
    {
     "data": {
      "image/png": "[encoded data removed]",
      "text/plain": [
       "<matplotlib.figure.Figure at 0x21a0348f048>"
      ]
     },
     "metadata": {},
     "output_type": "display_data"
    }
   ],
   "source": [
    "s = np.random.weibull(1, 100)\n",
    "plt.hist(s)\n",
    "plt.title(\"The Right Skewed Weibull Distribution\")\n",
    "plt.xlabel(\"Shape\")\n",
    "plt.ylabel (\"Qty\")\n",
    "plt.show()"
   ]
  },
  {
   "cell_type": "markdown",
   "metadata": {},
   "source": [
    "The distribution plot above shows that a low shape parameter of 1 skews the data to the right. Lets see what happens when we change the shape parameter to 10."
   ]
  },
  {
   "cell_type": "code",
   "execution_count": 40,
   "metadata": {},
   "outputs": [
    {
     "data": {
      "image/png": "[encoded data removed]",
      "text/plain": [
       "<matplotlib.figure.Figure at 0x21a044949b0>"
      ]
     },
     "metadata": {},
     "output_type": "display_data"
    }
   ],
   "source": [
    "s = np.random.weibull(10, 100)\n",
    "plt.hist(s)\n",
    "plt.title(\"The Left Skewed Weibull Distribution\")\n",
    "plt.xlabel(\"Shape\")\n",
    "plt.ylabel (\"Qty\")\n",
    "plt.show()"
   ]
  },
  {
   "cell_type": "markdown",
   "metadata": {},
   "source": [
    "As predicted with a high shape parameter the distribution bcomes left skewed. From research as the shape parameter increases the data tends to skew right and anywhere from 5 on the data becomes distinctly right skewed. So lets see what happens when we pick the middle value between 1 and 5 i.e. 2.5"
   ]
  },
  {
   "cell_type": "code",
   "execution_count": 41,
   "metadata": {},
   "outputs": [
    {
     "data": {
      "image/png": "[encoded data removed]",
      "text/plain": [
       "<matplotlib.figure.Figure at 0x21a0455bc18>"
      ]
     },
     "metadata": {},
     "output_type": "display_data"
    }
   ],
   "source": [
    "s = np.random.weibull(2.5, 100)\n",
    "plt.hist(s)\n",
    "plt.title(\"The Centred Weibull Distribution\")\n",
    "plt.xlabel(\"Shape\")\n",
    "plt.ylabel (\"Qty\")\n",
    "plt.show()"
   ]
  },
  {
   "cell_type": "markdown",
   "metadata": {},
   "source": [
    "The data starts to look like the normal distribution."
   ]
  },
  {
   "cell_type": "markdown",
   "metadata": {
    "collapsed": true
   },
   "source": [
    "## Normal Distribution\n",
    "\n",
    "One of the most important distributions in mathemathics is the standard normal distribution. It is used to model and analysis numerous aspects of the natural world as well as many inustrial, medical and financal scenarios.\n",
    "\n",
    "The normal distribution is a continouse distribution that has two parameters;\n",
    "\n",
    "- Mean (mu)\n",
    "- Standard Deviation (sigma)\n",
    "\n",
    "An important characteristic of the normal distribution is that approximately;\n",
    "\n",
    "1. 68% of observations are within +/- 1 standard deviation of the mean\n",
    "2. 95% of observations are within +/- 2 standards deviations of the mean\n",
    "3. 99.7% of observations are within +/- 3 standard deviations of the mean."
   ]
  },
  {
   "cell_type": "markdown",
   "metadata": {},
   "source": [
    "The np.random.standard_normal(x) command generates an array containing (x) data points from a normal distribution. To trial this lets plot 200 data points using the command above. The larger the sample size the better defined the distribution plot will be."
   ]
  },
  {
   "cell_type": "code",
   "execution_count": 42,
   "metadata": {},
   "outputs": [
    {
     "data": {
      "image/png": "[encoded data removed]",
      "text/plain": [
       "<matplotlib.figure.Figure at 0x21a0456b048>"
      ]
     },
     "metadata": {},
     "output_type": "display_data"
    }
   ],
   "source": [
    "s = np.random.standard_normal(200)\n",
    "plt.hist(s)\n",
    "plt.title(\"Normal Distribution\")\n",
    "plt.xlabel(\"Measured Value\")\n",
    "plt.ylabel(\"Qty\")\n",
    "plt.show()"
   ]
  },
  {
   "cell_type": "markdown",
   "metadata": {},
   "source": [
    "Now if I want to generate a normal distribution data set and plot when I know the mean and standard deviation I can use the following command. For this example I will use a sample size of 200, 0.5 as the standard deviation and 3 as the mean."
   ]
  },
  {
   "cell_type": "code",
   "execution_count": 43,
   "metadata": {},
   "outputs": [
    {
     "data": {
      "image/png": "[encoded data removed]",
      "text/plain": [
       "<matplotlib.figure.Figure at 0x21a044e1550>"
      ]
     },
     "metadata": {},
     "output_type": "display_data"
    }
   ],
   "source": [
    "y = 0.5*np.random.standard_normal(200) +3\n",
    "plt.hist(y)\n",
    "plt.title(\"Normality Plot\")\n",
    "plt.xlabel(\"Measured Value\")\n",
    "plt.ylabel(\"Qty\")\n",
    "plt.show()"
   ]
  },
  {
   "cell_type": "markdown",
   "metadata": {},
   "source": [
    "##  The use of Seeds in Generating Pseudorandom Numbers.\n",
    "\n",
    "The Random package has a RandomState function that uses a number of methods to generate psuedo-random numbers for a variety of different distributions. Included is a default keyword of None, and if size None is accepted a single pseudo-random number is returned. If a integer is inputted for size, a 1 dimensional array with pseudo random numbers will be retuned. \n",
    "\n",
    "I keep using the term pseudo random numbers, the reason for this is that if a number is truly random a seed is not required. In it's basic format the seed is the starting number for the generation of the pseudo random numbers. A computer cannot generate truly random numbers it requires an alogrithm to go from one number to the next. The **SEED** is the starting input value to this algorithm to generate the pseudo random numbers from the random number generator (RNG).\n",
    "\n",
    "If you think of the algorithm as a complex function i.e. when you input x the output based on the input and alogrithm is different. e.g.\n",
    "                        f(x) = x^2\n",
    "                        \n",
    "This is a simple example but worth while, if I keep inputting the same same value of x I will get the same value for x^2. This is true for seeds in random number generation as well. \n",
    "\n",
    "Detailed below from the SciPy.Org notes webpage. (https://docs.scipy.org/doc/numpy/reference/generated/numpy.random.RandomState.html#numpy.random.RandomState) \n",
    "\n",
    "\"Compatibility Guarantee A fixed seed and a fixed series of calls to ‘RandomState’ methods using the same parameters will always produce the same results up to roundoff error\" \n",
    "\n",
    "\n"
   ]
  },
  {
   "cell_type": "code",
   "execution_count": null,
   "metadata": {
    "collapsed": true
   },
   "outputs": [],
   "source": []
  }
 ],
 "metadata": {
  "kernelspec": {
   "display_name": "Python 3",
   "language": "python",
   "name": "python3"
  },
  "language_info": {
   "codemirror_mode": {
    "name": "ipython",
    "version": 3
   },
   "file_extension": ".py",
   "mimetype": "text/x-python",
   "name": "python",
   "nbconvert_exporter": "python",
   "pygments_lexer": "ipython3",
   "version": "3.6.3"
  }
 },
 "nbformat": 4,
 "nbformat_minor": 2
}
