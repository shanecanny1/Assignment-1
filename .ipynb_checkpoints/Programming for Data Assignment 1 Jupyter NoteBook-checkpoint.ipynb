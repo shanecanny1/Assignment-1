{
 "cells": [
  {
   "cell_type": "markdown",
   "metadata": {
    "collapsed": true
   },
   "source": [
    "# Programming for Data Analytics - Assignment 1# \n",
    "\n",
    "## Introduction##\n",
    "\n",
    "This Jupyter Notebook will explain the purpose and functionality of the numpy.random library within the Python software application used within the data analytics field.  The Jupyter Notebook will explain the use of the package, including detailed explanations of at least ﬁve of the mathematical distributions provided for in the package.\n",
    "\n",
    "There are four distinct tasks required for this assignment.\n",
    "\n",
    "1. Explain the overall purpose of the package. \n",
    "2. Explain the use of the “Simple random data” and “Permutations” functions. \n",
    "3. Explain the use and purpose of at least ﬁve “Distributions” functions. \n",
    "4. Explain the use of seeds in generating pseudorandom numbers.\n"
   ]
  },
  {
   "cell_type": "code",
   "execution_count": 3,
   "metadata": {
    "collapsed": true
   },
   "outputs": [],
   "source": [
    "import numpy as np"
   ]
  },
  {
   "cell_type": "code",
   "execution_count": 4,
   "metadata": {
    "collapsed": true
   },
   "outputs": [],
   "source": [
    "import matplotlib.pyplot as plt"
   ]
  },
  {
   "cell_type": "markdown",
   "metadata": {},
   "source": [
    "# Purpose of the numpy.random Package# \n",
    "At its basic the numpy.random package is used to create random numbers that can be used in the Python application to perform simulations. The ability to generate random numbers is an important part of any simulation. NumPy provides various routines in the submodule random to meet this requirement. The algorithm used within the random submodule to generate random numbers is called the Mersenne Twister algorithm. To generate a random number a seed is defined and is initialized into a state. Everytime a random number is called a one way function (f) is used to transform the state.\n",
    "\n",
    "The Mersenne Twister algorithm uses a similar approach execpt the functions used to transform the state are reversible and the first state is not used to output any random numbers."
   ]
  },
  {
   "cell_type": "markdown",
   "metadata": {},
   "source": [
    "# Simple Random Data #\n",
    "\n",
    "The Simple Random Data module is broken up into different sub-sections to generate random data applicable to different analytic requirements. The list below details the different options available within the Simple Random Data module with a brief description.\n",
    "\n",
    "- rand(d0, d1, …, dn)\t                Random values in a given shape.\n",
    "- randn(d0, d1, …, dn)\t                Return a sample (or samples) from the “standard normal” distribution.\n",
    "- randint(low[, high, size, dtype])\t    Return random integers from low (inclusive) to high (exclusive).\n",
    "- random_integers(low[, high, size])\tRandom integers of type np.int between low and high, inclusive.\n",
    "- random_sample([size])\t                Return random floats in the half-open interval [0.0, 1.0).\n",
    "- random([size])\t                    Return random floats in the half-open interval [0.0, 1.0).\n",
    "- ranf([size])\t                        Return random floats in the half-open interval [0.0, 1.0).\n",
    "- sample([size])\t                    Return random floats in the half-open interval [0.0, 1.0).\n",
    "- choice(a[, size, replace, p])\t        Generates a random sample from a given 1-D array.\n",
    "- bytes(length)\t                        Return random bytes.\n",
    "\n",
    "The analysis below looks to explore a sample of the sub-sections within the Simple Random Data module to further understand each command.  "
   ]
  },
  {
   "cell_type": "markdown",
   "metadata": {},
   "source": [
    "# numpy.random.rand #\n",
    "\n",
    "The numpy.random.rand command creates an array of the given shape and populates it with random samples from a uniform distribution over [0, 1). The [0, 1) is mathemathical notation to explain that the random numbers generated will include zero but not one i.e. the numbers generated will be between 0 and 1 but will not include 1.\n",
    "\n"
   ]
  },
  {
   "cell_type": "code",
   "execution_count": 5,
   "metadata": {},
   "outputs": [
    {
     "data": {
      "text/plain": [
       "array([[ 0.02163565,  0.92702262],\n",
       "       [ 0.72533665,  0.27263562],\n",
       "       [ 0.22883748,  0.26980255]])"
      ]
     },
     "execution_count": 5,
     "metadata": {},
     "output_type": "execute_result"
    }
   ],
   "source": [
    "np.random.rand(3,2)"
   ]
  },
  {
   "cell_type": "markdown",
   "metadata": {},
   "source": [
    "As can be seen from the np.random.rand command above the (3,2) at the end of the command looks to determine the shape of the array i.e. 3 rows and 2 columns. To investigate this further the same command will be run but (3,2) will be replace with (4,5). This should produce an array with 4 rows and 5 columns."
   ]
  },
  {
   "cell_type": "code",
   "execution_count": 6,
   "metadata": {},
   "outputs": [
    {
     "data": {
      "text/plain": [
       "array([[ 0.34017571,  0.65710098,  0.89578863,  0.44740522,  0.29401995],\n",
       "       [ 0.82155781,  0.09987523,  0.09009333,  0.22486187,  0.56612044],\n",
       "       [ 0.33256976,  0.77898894,  0.96836297,  0.85827451,  0.70579554],\n",
       "       [ 0.76759756,  0.06421063,  0.39762104,  0.3478442 ,  0.30507654]])"
      ]
     },
     "execution_count": 6,
     "metadata": {},
     "output_type": "execute_result"
    }
   ],
   "source": [
    "np.random.rand(4,5)"
   ]
  },
  {
   "cell_type": "markdown",
   "metadata": {},
   "source": [
    "As was predicted an array with 4 rows and 5 columns was generated when the variables within the command where changed to 4 and 5."
   ]
  },
  {
   "cell_type": "markdown",
   "metadata": {},
   "source": [
    "# Permutations # \n",
    "\n"
   ]
  },
  {
   "cell_type": "code",
   "execution_count": null,
   "metadata": {
    "collapsed": true
   },
   "outputs": [],
   "source": []
  }
 ],
 "metadata": {
  "kernelspec": {
   "display_name": "Python 3",
   "language": "python",
   "name": "python3"
  },
  "language_info": {
   "codemirror_mode": {
    "name": "ipython",
    "version": 3
   },
   "file_extension": ".py",
   "mimetype": "text/x-python",
   "name": "python",
   "nbconvert_exporter": "python",
   "pygments_lexer": "ipython3",
   "version": "3.6.3"
  }
 },
 "nbformat": 4,
 "nbformat_minor": 2
}
